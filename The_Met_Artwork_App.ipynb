{
  "cells": [
    {
      "cell_type": "markdown",
      "metadata": {
        "id": "view-in-github",
        "colab_type": "text"
      },
      "source": [
        "<a href=\"https://colab.research.google.com/github/sabrinajmei/met-artwork-app/blob/main/The_Met_Artwork_App.ipynb\" target=\"_parent\"><img src=\"https://colab.research.google.com/assets/colab-badge.svg\" alt=\"Open In Colab\"/></a>"
      ]
    },
    {
      "cell_type": "markdown",
      "metadata": {
        "id": "s-WG6aV1uGr0"
      },
      "source": [
        "# Project Description\n",
        "\n"
      ]
    },
    {
      "cell_type": "markdown",
      "source": [
        "Metropolitan Museum of Art App: This app accesses data from [The Metropolitan Museum of Art Collection API](https://metmuseum.github.io/#objects) to generate an **email spotlighting a specific work of art from The Met**, with corresponding information and background on the artwork.\n",
        "\n",
        "\n",
        "NOTE: The spotlighted artwork is randomized, and there will be no specificity from personal curation."
      ],
      "metadata": {
        "id": "bT3p41WR63n5"
      }
    },
    {
      "cell_type": "markdown",
      "source": [
        "# Functionality Overview\n"
      ],
      "metadata": {
        "id": "HpClpVCd3qFQ"
      }
    },
    {
      "cell_type": "markdown",
      "source": [
        "We ask the user to input their email and name.\n",
        "\n",
        "We fetch data from The Met Collection API for a randomized work of art. From there, we process this data to collect the following information about the artwork, along with an image of the piece:\n",
        "\n",
        "*   **Title**\n",
        "*  **Artist**\n",
        "*   **Culture**\n",
        "*   **Classification**\n",
        "*   **Medium**\n",
        "*   **Date Created**\n",
        "\n",
        "All of this information is formatted and sent to the user's email. At the bottom of the email, we will display 2 buttons:\n",
        "* The first button will link to a Met web page with more information about the art work.\n",
        "* The second button will link to The Met's general website."
      ],
      "metadata": {
        "id": "PrtAadbr7BC0"
      }
    },
    {
      "cell_type": "markdown",
      "source": [
        "# Information Requirements"
      ],
      "metadata": {
        "id": "qWBC4lt1526z"
      }
    },
    {
      "cell_type": "markdown",
      "source": [
        "### Inputs:\n",
        "\n",
        "*  User name\n",
        "*  User email\n",
        "*  API response\n",
        "\n",
        "### Outputs:\n",
        "\n",
        "*   API request\n",
        "*   Printed artwork information, along with corresponding image\n",
        "*   Formatted email containing artwork information to user's inbox"
      ],
      "metadata": {
        "id": "mJL0iOhP6w5x"
      }
    },
    {
      "cell_type": "markdown",
      "source": [
        "# Setup & Configuration"
      ],
      "metadata": {
        "id": "Fpp-z2ZM7NuP"
      }
    },
    {
      "cell_type": "markdown",
      "metadata": {
        "id": "domsOvn_uGr3"
      },
      "source": [
        "### Package Import"
      ]
    },
    {
      "cell_type": "code",
      "execution_count": null,
      "metadata": {
        "id": "ybSYSic1uGr3"
      },
      "outputs": [],
      "source": [
        "import requests\n",
        "import random\n",
        "from IPython.display import display, Image\n",
        "from datetime import datetime"
      ]
    },
    {
      "cell_type": "markdown",
      "metadata": {
        "id": "o5uxMonruGr4"
      },
      "source": [
        "### Authorization and API Access"
      ]
    },
    {
      "cell_type": "markdown",
      "metadata": {
        "id": "ShXBgvR1uGr4"
      },
      "source": [
        "The Met does not require developers to register or obtain an API key to access the API, so there is no authentication process necessary"
      ]
    },
    {
      "cell_type": "code",
      "execution_count": null,
      "metadata": {
        "id": "Ecys9tfsuGr5"
      },
      "outputs": [],
      "source": [
        "all_objects = \"https://collectionapi.metmuseum.org/public/collection/v1/objects\"\n",
        "response_test = requests.get(all_objects)\n",
        "api_test = response_test.json()"
      ]
    },
    {
      "cell_type": "markdown",
      "metadata": {
        "id": "99A3EGANuGr5"
      },
      "source": [
        "We see that there are 485,596 objects, presumably with IDs from 1-485,596."
      ]
    },
    {
      "cell_type": "markdown",
      "source": [
        "### Collecting User Info"
      ],
      "metadata": {
        "id": "gziX6M_i8NCd"
      }
    },
    {
      "cell_type": "code",
      "source": [
        "def get_user_email():\n",
        "    return input(\"Please enter your email address: \")\n",
        "\n",
        "def get_user_name():\n",
        "    return input(\"Please enter your name: \")"
      ],
      "metadata": {
        "id": "dUYgdraY8Ltk"
      },
      "execution_count": null,
      "outputs": []
    },
    {
      "cell_type": "markdown",
      "source": [
        "### Email Setup (Mailgun)"
      ],
      "metadata": {
        "id": "eU-H0i4Hve46"
      }
    },
    {
      "cell_type": "code",
      "execution_count": null,
      "metadata": {
        "id": "Bwwl-NQOuGr6"
      },
      "outputs": [],
      "source": [
        "MAILGUN_API_KEY = \"fe5e9017ec6c8b9aff0ca4962df4cad1-1c7e8847-08792a92\"\n",
        "MAILGUN_SENDER_ADDRESS = \"sjm189@georgetown.edu\"\n",
        "MAILGUN_DOMAIN = \"sandbox6f1952847945490d935e1788c1a47f13.mailgun.org\""
      ]
    },
    {
      "cell_type": "markdown",
      "source": [
        "# Usage"
      ],
      "metadata": {
        "id": "pL86BIDww7Df"
      }
    },
    {
      "cell_type": "code",
      "execution_count": null,
      "metadata": {
        "id": "a6RkUbGZuGr6"
      },
      "outputs": [],
      "source": [
        "def get_random_object_id():\n",
        "    return random.randint(1, 485596)\n",
        "\n",
        "\n",
        "def get_artwork_summary(object_id):\n",
        "    url = (\n",
        "        f\"https://collectionapi.metmuseum.org/public/collection/v1/objects/{object_id}\"\n",
        "    )\n",
        "    response = requests.get(url)\n",
        "\n",
        "    if response.status_code == 200:\n",
        "        data = response.json()\n",
        "        if all(data.get(key) for key in [\"primaryImage\", \"title\", \"artistDisplayName\"]):\n",
        "            summary = {\n",
        "                \"Title\": data[\"title\"],\n",
        "                \"Artist\": data[\"artistDisplayName\"],\n",
        "                \"Culture\": data.get(\"culture\", \"N/A\"),\n",
        "                \"Classification\": data.get(\"classification\", \"N/A\"),\n",
        "                \"Object URL\": data.get(\"objectURL\", \"N/A\"),\n",
        "                \"Primary Image URL\": data[\"primaryImage\"],\n",
        "                \"Medium\": data.get(\"medium\", \"N/A\"),\n",
        "                \"Dimensions\": data.get(\"dimensions\", \"N/A\"),\n",
        "                \"Date Created\": data.get(\"objectDate\", \"N/A\"),\n",
        "                \"Wikidata URL\": data.get(\"objectWikidata_URL\", \"N/A\"),\n",
        "                \"Artist URL\": data.get(\"artistULAN_URL\",\"N/A\")\n",
        "            }\n",
        "            return summary\n",
        "    return None\n",
        "\n",
        "\n",
        "def create_artwork_paragraph(artwork_summary):\n",
        "    paragraph = f\"This image depicts {artwork_summary['Title']}, an artwork by {artwork_summary['Artist']}. \"\n",
        "    paragraph += f\"For more information, visit [Met Museum source]({artwork_summary['Object URL']})\"\n",
        "\n",
        "    # Include Wikidata source if available\n",
        "    if artwork_summary[\"Wikidata URL\"] and artwork_summary[\"Wikidata URL\"] != \"N/A\":\n",
        "        paragraph += f\" or [Wikidata source]({artwork_summary['Wikidata URL']}).\"\n",
        "    else:\n",
        "        paragraph += \".\"\n",
        "\n",
        "    return paragraph\n",
        "\n",
        "\n",
        "def display_artwork(artwork_summary, image_size=(300, 300)):\n",
        "    print(\"Artwork Summary:\")\n",
        "    for key, value in artwork_summary.items():\n",
        "        print(f\"{key}: {value}\")\n",
        "\n",
        "    # Display the primary image with a specified size\n",
        "    primary_image_url = artwork_summary.get(\"Primary Image URL\", None)\n",
        "    if primary_image_url:\n",
        "        print(\"\\nPrimary Image:\")\n",
        "        display(Image(url=primary_image_url, width=image_size[0], height=image_size[1]))\n",
        "    else:\n",
        "        print(\"\\nPrimary Image: Image not available.\")"
      ]
    },
    {
      "cell_type": "markdown",
      "source": [
        "# Sending the Email"
      ],
      "metadata": {
        "id": "N1lU0KOm8XSZ"
      }
    },
    {
      "cell_type": "code",
      "source": [
        "#formatting the current date\n",
        "current_date = datetime.today().date()\n",
        "formatted_date = current_date.strftime(\"%A, %B %d, %Y\")\n",
        "\n",
        "#sending the email\n",
        "def send_email_with_artwork_and_buttons(\n",
        "    artwork_summary,\n",
        "    recipient_address=\"sjm189@georgetown.edu\",\n",
        "    subject=\"Snapshot of The Met: Check out this amazing artwork!\",\n",
        "):\n",
        "    print(\"SENDING EMAIL TO:\", recipient_address)\n",
        "    print(\"SUBJECT:\", subject)\n",
        "\n",
        "    # Create HTML content for the email\n",
        "    html_content = f\"<p style='font-size: 24px;'><strong>{formatted_date}</strong>: <strong style='font-size: 24px;'>Snapshot of The Met</strong></p>\"\n",
        "    html_content += f\"<p>Hello {get_user_name()}! </p>\"\n",
        "    html_content += f\"<p>Check out this amazing artwork:</p>\"\n",
        "    html_content += f\"<p>Title: {artwork_summary['Title']}</p>\"\n",
        "    html_content += f\"<p>Artist: {artwork_summary['Artist']}</p>\"\n",
        "    html_content += f\"<p>Culture: {artwork_summary['Culture']}</p>\"\n",
        "    html_content += f\"<p>Classification: {artwork_summary['Classification']}</p>\"\n",
        "    html_content += f\"<p>Medium: {artwork_summary['Medium']}</p>\"\n",
        "    html_content += f\"<p>Date Created: {artwork_summary['Date Created']}</p>\"\n",
        "\n",
        "    # Include image in the email if available\n",
        "    if artwork_summary[\"Primary Image URL\"]:\n",
        "        html_content += f\"<p>Image:</p>\"\n",
        "        html_content += f'<img src=\"{artwork_summary[\"Primary Image URL\"]}\" alt=\"Artwork Image\" style=\"max-width: 500px;\">'\n",
        "\n",
        "    # Include Met Museum link for ART button if available\n",
        "    if artwork_summary[\"Object URL\"] and artwork_summary[\"Object URL\"] != \"N/A\":\n",
        "        html_content += f'<div><a href=\"{artwork_summary[\"Object URL\"]}\" style=\"background-color: #eb0029; color: white; padding: 10px 15px; margin-bottom: 10px; text-align: center; text-decoration: none; display: inline-block; border-radius: 5px;\">Learn more about the artwork here.</a></div>'\n",
        "\n",
        "    # Include ULAN link for ARTIST button if available\n",
        "    if artwork_summary[\"Artist URL\"] and artwork_summary[\"Artist URL\"] != \"N/A\":\n",
        "        html_content += f'<div><a href=\"{artwork_summary[\"Artist URL\"]}\" style=\"background-color: #eb0029; color: white; padding: 10px 15px; margin-top: 10px; text-align: center; text-decoration: none; display: inline-block; border-radius: 5px;\">Learn more about the artist here.</a></div>'\n",
        "\n",
        "\n",
        "\n",
        "    try:\n",
        "        request_url = f\"https://api.mailgun.net/v3/{MAILGUN_DOMAIN}/messages\"\n",
        "        message_data = {\n",
        "            \"from\": MAILGUN_SENDER_ADDRESS,\n",
        "            \"to\": recipient_address,\n",
        "            \"subject\": subject,\n",
        "            \"html\": html_content,\n",
        "        }\n",
        "        response = requests.post(\n",
        "            request_url, auth=(\"api\", MAILGUN_API_KEY), data=message_data\n",
        "        )\n",
        "        print(\"RESULT:\", response.status_code)\n",
        "        response.raise_for_status()\n",
        "        print(\"Email sent successfully!\")\n",
        "        return response.status_code\n",
        "    except requests.exceptions.RequestException as e:\n",
        "        print(f\"Error sending email: {str(e)}\")\n",
        "        return None\n"
      ],
      "metadata": {
        "id": "YTVrCj6Nwo4l"
      },
      "execution_count": null,
      "outputs": []
    },
    {
      "cell_type": "code",
      "source": [
        "while True:\n",
        "    random_object_id = get_random_object_id()\n",
        "    artwork_summary = get_artwork_summary(random_object_id)\n",
        "\n",
        "    if artwork_summary:\n",
        "        display_artwork(artwork_summary)\n",
        "        paragraph = create_artwork_paragraph(artwork_summary)\n",
        "        print(\"\\nArtwork Description:\")\n",
        "        print(paragraph)\n",
        "\n",
        "        # Prompt user for email address\n",
        "        recipient_email = get_user_email()\n",
        "\n",
        "        # Send email with artwork summary and buttons\n",
        "        send_email_with_artwork_and_buttons(artwork_summary, recipient_address=recipient_email)\n",
        "        break\n",
        "    else:\n",
        "        print(\n",
        "            f\"Object ID {random_object_id} does not have complete information or an available image. Trying another one...\"\n",
        "        )"
      ],
      "metadata": {
        "colab": {
          "base_uri": "https://localhost:8080/",
          "height": 755
        },
        "id": "-XRVB7HhxJbq",
        "outputId": "f3530307-f6e5-4637-9a16-22254c0950eb"
      },
      "execution_count": null,
      "outputs": [
        {
          "output_type": "stream",
          "name": "stdout",
          "text": [
            "Object ID 320022 does not have complete information or an available image. Trying another one...\n",
            "Object ID 86526 does not have complete information or an available image. Trying another one...\n",
            "Artwork Summary:\n",
            "Title: Spoon\n",
            "Artist: B. T.\n",
            "Culture: American\n",
            "Classification: \n",
            "Object URL: https://www.metmuseum.org/art/collection/search/7819\n",
            "Primary Image URL: https://images.metmuseum.org/CRDImages/ad/original/97996.jpg\n",
            "Medium: Silver\n",
            "Dimensions: L. 4 in. (10.2 cm)\n",
            "Date Created: 1740–50\n",
            "Wikidata URL: https://www.wikidata.org/wiki/Q116350626\n",
            "Artist URL: \n",
            "\n",
            "Primary Image:\n"
          ]
        },
        {
          "output_type": "display_data",
          "data": {
            "text/html": [
              "<img src=\"https://images.metmuseum.org/CRDImages/ad/original/97996.jpg\" width=\"300\" height=\"300\"/>"
            ],
            "text/plain": [
              "<IPython.core.display.Image object>"
            ]
          },
          "metadata": {}
        },
        {
          "output_type": "stream",
          "name": "stdout",
          "text": [
            "\n",
            "Artwork Description:\n",
            "This image depicts Spoon, an artwork by B. T.. For more information, visit [Met Museum source](https://www.metmuseum.org/art/collection/search/7819) or [Wikidata source](https://www.wikidata.org/wiki/Q116350626).\n",
            "Please enter your email address: awaters4730@gmail.com\n",
            "SENDING EMAIL TO: awaters4730@gmail.com\n",
            "SUBJECT: Snapshot of The Met: Check out this amazing artwork!\n",
            "Please enter your name: asdfn\n",
            "RESULT: 200\n",
            "Email sent successfully!\n"
          ]
        }
      ]
    }
  ],
  "metadata": {
    "kernelspec": {
      "display_name": "venv",
      "language": "python",
      "name": "python3"
    },
    "language_info": {
      "codemirror_mode": {
        "name": "ipython",
        "version": 3
      },
      "file_extension": ".py",
      "mimetype": "text/x-python",
      "name": "python",
      "nbconvert_exporter": "python",
      "pygments_lexer": "ipython3",
      "version": "3.9.6"
    },
    "colab": {
      "provenance": [],
      "include_colab_link": true
    }
  },
  "nbformat": 4,
  "nbformat_minor": 0
}